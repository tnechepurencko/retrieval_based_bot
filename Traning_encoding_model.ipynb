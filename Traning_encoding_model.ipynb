{
  "nbformat": 4,
  "nbformat_minor": 0,
  "metadata": {
    "colab": {
      "provenance": []
    },
    "kernelspec": {
      "name": "python3",
      "display_name": "Python 3"
    },
    "language_info": {
      "name": "python"
    }
  },
  "cells": [
    {
      "cell_type": "code",
      "source": [
        "%%capture\n",
        "#@title Setup Environment\n",
        "# Install the latest Tensorflow version.\n",
        "!pip install \"tensorflow-text==2.11.*\"\n",
        "!pip install bokeh\n",
        "!pip install simpleneighbors[annoy]\n",
        "!pip install tqdm"
      ],
      "metadata": {
        "id": "NedxWMkJTnJ_"
      },
      "execution_count": 1,
      "outputs": []
    },
    {
      "cell_type": "code",
      "source": [
        "import numpy\n",
        "numpy.version.version"
      ],
      "metadata": {
        "id": "BfUUeGwrlkLQ",
        "outputId": "b3cc9856-67cd-457a-f257-3c25949c015f",
        "colab": {
          "base_uri": "https://localhost:8080/",
          "height": 36
        }
      },
      "execution_count": null,
      "outputs": [
        {
          "output_type": "execute_result",
          "data": {
            "text/plain": [
              "'1.22.4'"
            ],
            "application/vnd.google.colaboratory.intrinsic+json": {
              "type": "string"
            }
          },
          "metadata": {},
          "execution_count": 7
        }
      ]
    },
    {
      "cell_type": "code",
      "source": [
        "#@title Setup common imports and functions\n",
        "import bokeh\n",
        "import bokeh.models\n",
        "import bokeh.plotting\n",
        "import numpy as np\n",
        "import os\n",
        "import pandas as pd\n",
        "import tensorflow.compat.v2 as tf\n",
        "import tensorflow_hub as hub\n",
        "from tensorflow_text import SentencepieceTokenizer\n",
        "import sklearn.metrics.pairwise\n",
        "\n",
        "\n"
      ],
      "metadata": {
        "id": "UTFm9An4TrCe"
      },
      "execution_count": 2,
      "outputs": []
    },
    {
      "cell_type": "code",
      "source": [
        "# The 16-language multilingual module is the default but feel free\n",
        "# to pick others from the list and compare the results.\n",
        "module_url = 'https://tfhub.dev/google/universal-sentence-encoder-multilingual/3' #@param ['https://tfhub.dev/google/universal-sentence-encoder-multilingual/3', 'https://tfhub.dev/google/universal-sentence-encoder-multilingual-large/3']\n",
        "\n",
        "model = hub.load(module_url)\n",
        "\n",
        "def embed_text(input):\n",
        "  return model(input)"
      ],
      "metadata": {
        "id": "x0A1wIecTtK1"
      },
      "execution_count": 3,
      "outputs": []
    },
    {
      "cell_type": "code",
      "source": [],
      "metadata": {
        "id": "Zp_bhXrCW2KQ"
      },
      "execution_count": 8,
      "outputs": []
    },
    {
      "cell_type": "code",
      "source": [
        "import json\n",
        "import pandas as pd\n",
        "\n",
        "def get_data_embeds(questions):\n",
        "  embeds = {\n",
        "      text: embed_text(text).numpy().tolist() for text in questions\n",
        "  } # {Question: embedding of the question}\n",
        "  return embeds\n",
        "\n",
        "def calc_embeds(file_path, output_path):\n",
        "  df = pd.read_csv(file_path, sep=\"\\t\")\n",
        "  q_df = df.question.values\n",
        "  df_embeds = get_data_embeds(q_df)\n",
        "  with open(output_path, 'w') as f:\n",
        "    json.dump(df_embeds,f)\n",
        "\n",
        "calc_embeds(r\"/content/drive/MyDrive/University/Internships/CheckScan/AI chatbot/data/new_df.csv\", \"new_df_question.json\")"
      ],
      "metadata": {
        "id": "W4lf3B9cq4jB"
      },
      "execution_count": 13,
      "outputs": []
    },
    {
      "cell_type": "code",
      "source": [
        "from sklearn.metrics.pairwise import cosine_similarity\n",
        "\n",
        "\n",
        "\n",
        "\n",
        "def get_answer(question, embeds):\n",
        "  '''\n",
        "    This function will try to get the 3 most relevent answers by comparing the question with similar questions\n",
        "  '''\n",
        "  question_embeding = embed_text(question).numpy() # getting the embedings of the question\n",
        "  question_embeding = question_embeding.reshape(1, -1)\n",
        "  similarity_scores = []\n",
        "  for text, embed in list(embeds.items()):\n",
        "      embed = np.array(embed).reshape(1, -1)\n",
        "      similarity_score = cosine_similarity(question_embeding, embed)[0][0]\n",
        "      similarity_scores.append(similarity_score)\n",
        "  top_indices = np.argsort(similarity_scores)[-3:][::-1]\n",
        "  top_questions = [list(embeds.keys())[index] for index in top_indices]\n",
        "  top_answers = [data.answer.values[index] for index in top_indices]\n",
        "  for i in range(3):\n",
        "    print(top_questions[i])\n",
        "    print(top_answers[i])\n",
        "    print(\"--------------\")\n",
        "\n",
        "\n",
        "question = ['пополнение мир регистрироваться чек день пополнить почти время долгий получаться карта каждый происходить сбербанк этот не']\n",
        "get_answer(question, embeds)"
      ],
      "metadata": {
        "colab": {
          "base_uri": "https://localhost:8080/"
        },
        "id": "4tzyHNCMUByW",
        "outputId": "43964254-a592-4d28-84a8-3777be8a594d"
      },
      "execution_count": null,
      "outputs": [
        {
          "output_type": "stream",
          "name": "stdout",
          "text": [
            "пополнение мир регистрироваться чек день пополнить почти время долгий получаться карта каждый происходить сбербанк этот не\n",
            "Пришлите, пожалуйста, Ваш пригласительный код - он указан на странице профиля в приложении. Просто скопируйте его, нажав на соответствующую кнопку и вставьте его нам в ответном письме.  \n",
            "--------------\n",
            "поменять дать карта мир сбербанк\n",
            "   Если на балансе карты еще остались средства, то вывести средства с карты вы можете следующими способами:    1. Оплатить картой товары или услуги в Интернете - для этого необходимо ввести реквизиты карты со страницы баланса (кнопка \"Реквизиты\") в поле оплаты. Если требуется ввести имя владельца карты - впишите имя и фамилию на латинице;    2. Вывести средства на счёт мобильного телефона - для этого необходимо открыть приложение мобильного оператора, счёт которого хотите пополнить, нажать \"Пополнить\" и ввести реквизиты карты для оплаты. Пополнение проходит без комиссии;    3. Лично обратиться в отделение банка для расторжения договора с последующим снятием наличных средств. Адреса отделений в вашем городе можно найти на сайте Ак Барс банка https://www.akbars.ru/offices/    При совершении транзакций рекомендуем ориентироваться на баланс в последнем смс-сообщении от Ак Барс банка, т.к. в приложении отображается баланс, актуальный на 23 декабря 2022 г.   \n",
            "--------------\n",
            "заказать вчерашний газпромбанк альфа прийти условие банк карта вообще выполнить выпуск чек отказ день перестать кэшбэк за всё начислять\n",
            " Пришлите, пожалуйста, ваш пригласительный код - он указан на странице профиля в приложении. Просто скопируйте его, нажав на соответствующую кнопку, или сделайте скриншот страницы и вставьте его нам в ответном письме.  \n",
            "--------------\n"
          ]
        }
      ]
    },
    {
      "cell_type": "code",
      "source": [
        "import numpy as np\n",
        "import pandas as pd\n",
        "# import tensorflow.compat.v2 as tf\n",
        "import tensorflow_hub as hub\n",
        "from tensorflow_text import SentencepieceTokenizer\n",
        "import sklearn.metrics.pairwise\n",
        "import json\n",
        "from sklearn.metrics.pairwise import cosine_similarity\n",
        "\n",
        "\n",
        "class Model:\n",
        "    def __init__(self) -> None:\n",
        "        module_url = 'https://tfhub.dev/google/universal-sentence-encoder-multilingual/3'\n",
        "        self.model = hub.load(module_url)\n",
        "        self.embeds = self.load_embeds()\n",
        "        self.data = pd.read_csv(r'/content/drive/MyDrive/University/Internships/CheckScan/AI chatbot/train_msgs.csv', sep='\\t')\n",
        "\n",
        "    def load_embeds(self):\n",
        "        with open('train_embeds.json', 'r') as f:\n",
        "            embeds = json.load(f)\n",
        "        return embeds\n",
        "\n",
        "    def embed_text(self, text):\n",
        "        \"\"\"\n",
        "            returning the embeddings of an input text\n",
        "        \"\"\"\n",
        "        return self.model(text)\n",
        "\n",
        "    def get_top_ans(self, question, n_answer=3):\n",
        "        \"\"\"\n",
        "            This function will try to get the 3 most relevant answers by comparing the question with similar questions.\n",
        "            The similarity is calculated using cosine_similarity\n",
        "        \"\"\"\n",
        "        question_embedding = self.embed_text(\n",
        "            question).numpy()  # getting the embeddings of the question\n",
        "        question_embedding = question_embedding.reshape(1, -1)\n",
        "        similarity_scores = []\n",
        "        for _, embed in list(self.embeds.items()):\n",
        "            embed = np.array(embed).reshape(1, -1)\n",
        "            similarity_score = cosine_similarity(\n",
        "                question_embedding, embed)[0][0]\n",
        "            similarity_scores.append(similarity_score)\n",
        "        top_indices = np.argsort(similarity_scores)[-3:][::-1]\n",
        "        top_questions = [list(self.embeds.keys())[index]\n",
        "                         for index in top_indices]\n",
        "        top_answers = [self.data.answer.values[index] for index in top_indices]\n",
        "\n",
        "        return top_questions[:n_answer], top_answers[:n_answer]\n",
        "\n",
        "model = Model()\n",
        "question = [\n",
        "    'тинькофф карта зачем для деньга если вывод оформлять иметься']\n",
        "a, b = model.get_top_ans(question)\n",
        "\n",
        "for i in range(3):\n",
        "    print(a[i])\n",
        "    print(b[i])\n",
        "    print('-'*100)"
      ],
      "metadata": {
        "colab": {
          "base_uri": "https://localhost:8080/"
        },
        "id": "_8HPEZd2bXuo",
        "outputId": "116040ad-1db3-4807-9b5d-018640120392"
      },
      "execution_count": null,
      "outputs": [
        {
          "output_type": "stream",
          "name": "stdout",
          "text": [
            "тинькофф карта зачем для деньга если вывод оформлять иметься\n",
            "Здравствуйте, к сожалению, нет. Смена номера телефона - вопрос безопасности, на данный момент его можно сменить только при личном посещении банка.\n",
            "----------------------------------------------------------------------------------------------------\n",
            "тинькофф оформить она приложение карта вывести деньга через на\n",
            "Добрый день! Спасибо, что написали.  Информация о проблеме с балансом уже была передана банку-партнёру. Вопрос решаем. Просим отслеживать обновление баланса.  Рекомендуем ориентироваться на баланс, который отображается в смс-сообщениях от банка.  Приносим извинения за доставленные неудобства и надеемся на ваше понимание ?  \n",
            "----------------------------------------------------------------------------------------------------\n",
            "не хотеть чекскан получаться тинькофф оформить вывести карта деньга\n",
            "Здравствуйте, Надежда. Пришлите, пожалуйста, Ваш пригласительный код - он указан на странице профиля в приложении. Просто скопируйте его, нажав на соответствующую кнопку и вставьте его нам в ответном письме.  \n",
            "----------------------------------------------------------------------------------------------------\n"
          ]
        }
      ]
    },
    {
      "cell_type": "code",
      "source": [],
      "metadata": {
        "id": "IacYZny1baP3"
      },
      "execution_count": null,
      "outputs": []
    }
  ]
}